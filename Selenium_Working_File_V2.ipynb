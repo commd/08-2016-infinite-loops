{
  "nbformat": 4,
  "nbformat_minor": 0,
  "metadata": {
    "colab": {
      "name": "Selenium Working File V2.ipynb",
      "provenance": [],
      "include_colab_link": true
    },
    "kernelspec": {
      "name": "python3",
      "display_name": "Python 3"
    }
  },
  "cells": [
    {
      "cell_type": "markdown",
      "metadata": {
        "id": "view-in-github",
        "colab_type": "text"
      },
      "source": [
        "<a href=\"https://colab.research.google.com/github/commd/08-2016-infinite-loops/blob/master/Selenium_Working_File_V2.ipynb\" target=\"_parent\"><img src=\"https://colab.research.google.com/assets/colab-badge.svg\" alt=\"Open In Colab\"/></a>"
      ]
    },
    {
      "cell_type": "markdown",
      "metadata": {
        "id": "XgdhQb8syOk2",
        "colab_type": "text"
      },
      "source": [
        "# Setup"
      ]
    },
    {
      "cell_type": "code",
      "metadata": {
        "id": "MEHDC-XyxAIn",
        "colab_type": "code",
        "outputId": "9e94c1bf-b503-4b91-832a-acf55ba7089e",
        "colab": {
          "base_uri": "https://localhost:8080/",
          "height": 683
        }
      },
      "source": [
        "!pip install selenium\n",
        "!apt-get update -qq\n",
        "!apt install chromium-chromedriver -qq"
      ],
      "execution_count": 0,
      "outputs": [
        {
          "output_type": "stream",
          "text": [
            "Collecting selenium\n",
            "\u001b[?25l  Downloading https://files.pythonhosted.org/packages/80/d6/4294f0b4bce4de0abf13e17190289f9d0613b0a44e5dd6a7f5ca98459853/selenium-3.141.0-py2.py3-none-any.whl (904kB)\n",
            "\r\u001b[K     |▍                               | 10kB 13.6MB/s eta 0:00:01\r\u001b[K     |▊                               | 20kB 3.1MB/s eta 0:00:01\r\u001b[K     |█                               | 30kB 4.3MB/s eta 0:00:01\r\u001b[K     |█▌                              | 40kB 4.5MB/s eta 0:00:01\r\u001b[K     |█▉                              | 51kB 3.6MB/s eta 0:00:01\r\u001b[K     |██▏                             | 61kB 4.0MB/s eta 0:00:01\r\u001b[K     |██▌                             | 71kB 4.3MB/s eta 0:00:01\r\u001b[K     |███                             | 81kB 4.6MB/s eta 0:00:01\r\u001b[K     |███▎                            | 92kB 4.9MB/s eta 0:00:01\r\u001b[K     |███▋                            | 102kB 4.8MB/s eta 0:00:01\r\u001b[K     |████                            | 112kB 4.8MB/s eta 0:00:01\r\u001b[K     |████▍                           | 122kB 4.8MB/s eta 0:00:01\r\u001b[K     |████▊                           | 133kB 4.8MB/s eta 0:00:01\r\u001b[K     |█████                           | 143kB 4.8MB/s eta 0:00:01\r\u001b[K     |█████▍                          | 153kB 4.8MB/s eta 0:00:01\r\u001b[K     |█████▉                          | 163kB 4.8MB/s eta 0:00:01\r\u001b[K     |██████▏                         | 174kB 4.8MB/s eta 0:00:01\r\u001b[K     |██████▌                         | 184kB 4.8MB/s eta 0:00:01\r\u001b[K     |██████▉                         | 194kB 4.8MB/s eta 0:00:01\r\u001b[K     |███████▎                        | 204kB 4.8MB/s eta 0:00:01\r\u001b[K     |███████▋                        | 215kB 4.8MB/s eta 0:00:01\r\u001b[K     |████████                        | 225kB 4.8MB/s eta 0:00:01\r\u001b[K     |████████▎                       | 235kB 4.8MB/s eta 0:00:01\r\u001b[K     |████████▊                       | 245kB 4.8MB/s eta 0:00:01\r\u001b[K     |█████████                       | 256kB 4.8MB/s eta 0:00:01\r\u001b[K     |█████████▍                      | 266kB 4.8MB/s eta 0:00:01\r\u001b[K     |█████████▉                      | 276kB 4.8MB/s eta 0:00:01\r\u001b[K     |██████████▏                     | 286kB 4.8MB/s eta 0:00:01\r\u001b[K     |██████████▌                     | 296kB 4.8MB/s eta 0:00:01\r\u001b[K     |██████████▉                     | 307kB 4.8MB/s eta 0:00:01\r\u001b[K     |███████████▎                    | 317kB 4.8MB/s eta 0:00:01\r\u001b[K     |███████████▋                    | 327kB 4.8MB/s eta 0:00:01\r\u001b[K     |████████████                    | 337kB 4.8MB/s eta 0:00:01\r\u001b[K     |████████████▎                   | 348kB 4.8MB/s eta 0:00:01\r\u001b[K     |████████████▊                   | 358kB 4.8MB/s eta 0:00:01\r\u001b[K     |█████████████                   | 368kB 4.8MB/s eta 0:00:01\r\u001b[K     |█████████████▍                  | 378kB 4.8MB/s eta 0:00:01\r\u001b[K     |█████████████▊                  | 389kB 4.8MB/s eta 0:00:01\r\u001b[K     |██████████████▏                 | 399kB 4.8MB/s eta 0:00:01\r\u001b[K     |██████████████▌                 | 409kB 4.8MB/s eta 0:00:01\r\u001b[K     |██████████████▉                 | 419kB 4.8MB/s eta 0:00:01\r\u001b[K     |███████████████▏                | 430kB 4.8MB/s eta 0:00:01\r\u001b[K     |███████████████▋                | 440kB 4.8MB/s eta 0:00:01\r\u001b[K     |████████████████                | 450kB 4.8MB/s eta 0:00:01\r\u001b[K     |████████████████▎               | 460kB 4.8MB/s eta 0:00:01\r\u001b[K     |████████████████▋               | 471kB 4.8MB/s eta 0:00:01\r\u001b[K     |█████████████████               | 481kB 4.8MB/s eta 0:00:01\r\u001b[K     |█████████████████▍              | 491kB 4.8MB/s eta 0:00:01\r\u001b[K     |█████████████████▊              | 501kB 4.8MB/s eta 0:00:01\r\u001b[K     |██████████████████▏             | 512kB 4.8MB/s eta 0:00:01\r\u001b[K     |██████████████████▌             | 522kB 4.8MB/s eta 0:00:01\r\u001b[K     |██████████████████▉             | 532kB 4.8MB/s eta 0:00:01\r\u001b[K     |███████████████████▏            | 542kB 4.8MB/s eta 0:00:01\r\u001b[K     |███████████████████▋            | 552kB 4.8MB/s eta 0:00:01\r\u001b[K     |████████████████████            | 563kB 4.8MB/s eta 0:00:01\r\u001b[K     |████████████████████▎           | 573kB 4.8MB/s eta 0:00:01\r\u001b[K     |████████████████████▋           | 583kB 4.8MB/s eta 0:00:01\r\u001b[K     |█████████████████████           | 593kB 4.8MB/s eta 0:00:01\r\u001b[K     |█████████████████████▍          | 604kB 4.8MB/s eta 0:00:01\r\u001b[K     |█████████████████████▊          | 614kB 4.8MB/s eta 0:00:01\r\u001b[K     |██████████████████████          | 624kB 4.8MB/s eta 0:00:01\r\u001b[K     |██████████████████████▌         | 634kB 4.8MB/s eta 0:00:01\r\u001b[K     |██████████████████████▉         | 645kB 4.8MB/s eta 0:00:01\r\u001b[K     |███████████████████████▏        | 655kB 4.8MB/s eta 0:00:01\r\u001b[K     |███████████████████████▌        | 665kB 4.8MB/s eta 0:00:01\r\u001b[K     |████████████████████████        | 675kB 4.8MB/s eta 0:00:01\r\u001b[K     |████████████████████████▎       | 686kB 4.8MB/s eta 0:00:01\r\u001b[K     |████████████████████████▋       | 696kB 4.8MB/s eta 0:00:01\r\u001b[K     |█████████████████████████       | 706kB 4.8MB/s eta 0:00:01\r\u001b[K     |█████████████████████████▍      | 716kB 4.8MB/s eta 0:00:01\r\u001b[K     |█████████████████████████▊      | 727kB 4.8MB/s eta 0:00:01\r\u001b[K     |██████████████████████████      | 737kB 4.8MB/s eta 0:00:01\r\u001b[K     |██████████████████████████▍     | 747kB 4.8MB/s eta 0:00:01\r\u001b[K     |██████████████████████████▉     | 757kB 4.8MB/s eta 0:00:01\r\u001b[K     |███████████████████████████▏    | 768kB 4.8MB/s eta 0:00:01\r\u001b[K     |███████████████████████████▌    | 778kB 4.8MB/s eta 0:00:01\r\u001b[K     |████████████████████████████    | 788kB 4.8MB/s eta 0:00:01\r\u001b[K     |████████████████████████████▎   | 798kB 4.8MB/s eta 0:00:01\r\u001b[K     |████████████████████████████▋   | 808kB 4.8MB/s eta 0:00:01\r\u001b[K     |█████████████████████████████   | 819kB 4.8MB/s eta 0:00:01\r\u001b[K     |█████████████████████████████▍  | 829kB 4.8MB/s eta 0:00:01\r\u001b[K     |█████████████████████████████▊  | 839kB 4.8MB/s eta 0:00:01\r\u001b[K     |██████████████████████████████  | 849kB 4.8MB/s eta 0:00:01\r\u001b[K     |██████████████████████████████▍ | 860kB 4.8MB/s eta 0:00:01\r\u001b[K     |██████████████████████████████▉ | 870kB 4.8MB/s eta 0:00:01\r\u001b[K     |███████████████████████████████▏| 880kB 4.8MB/s eta 0:00:01\r\u001b[K     |███████████████████████████████▌| 890kB 4.8MB/s eta 0:00:01\r\u001b[K     |███████████████████████████████▉| 901kB 4.8MB/s eta 0:00:01\r\u001b[K     |████████████████████████████████| 911kB 4.8MB/s \n",
            "\u001b[?25hRequirement already satisfied: urllib3 in /usr/local/lib/python3.6/dist-packages (from selenium) (1.24.3)\n",
            "Installing collected packages: selenium\n",
            "Successfully installed selenium-3.141.0\n",
            "The following additional packages will be installed:\n",
            "  chromium-browser chromium-browser-l10n chromium-codecs-ffmpeg-extra\n",
            "Suggested packages:\n",
            "  webaccounts-chromium-extension unity-chromium-extension adobe-flashplugin\n",
            "The following NEW packages will be installed:\n",
            "  chromium-browser chromium-browser-l10n chromium-chromedriver\n",
            "  chromium-codecs-ffmpeg-extra\n",
            "0 upgraded, 4 newly installed, 0 to remove and 39 not upgraded.\n",
            "Need to get 77.3 MB of archives.\n",
            "After this operation, 264 MB of additional disk space will be used.\n",
            "Selecting previously unselected package chromium-codecs-ffmpeg-extra.\n",
            "(Reading database ... 144433 files and directories currently installed.)\n",
            "Preparing to unpack .../chromium-codecs-ffmpeg-extra_81.0.4044.138-0ubuntu0.18.04.1_amd64.deb ...\n",
            "Unpacking chromium-codecs-ffmpeg-extra (81.0.4044.138-0ubuntu0.18.04.1) ...\n",
            "Selecting previously unselected package chromium-browser.\n",
            "Preparing to unpack .../chromium-browser_81.0.4044.138-0ubuntu0.18.04.1_amd64.deb ...\n",
            "Unpacking chromium-browser (81.0.4044.138-0ubuntu0.18.04.1) ...\n",
            "Selecting previously unselected package chromium-browser-l10n.\n",
            "Preparing to unpack .../chromium-browser-l10n_81.0.4044.138-0ubuntu0.18.04.1_all.deb ...\n",
            "Unpacking chromium-browser-l10n (81.0.4044.138-0ubuntu0.18.04.1) ...\n",
            "Selecting previously unselected package chromium-chromedriver.\n",
            "Preparing to unpack .../chromium-chromedriver_81.0.4044.138-0ubuntu0.18.04.1_amd64.deb ...\n",
            "Unpacking chromium-chromedriver (81.0.4044.138-0ubuntu0.18.04.1) ...\n",
            "Setting up chromium-codecs-ffmpeg-extra (81.0.4044.138-0ubuntu0.18.04.1) ...\n",
            "Setting up chromium-browser (81.0.4044.138-0ubuntu0.18.04.1) ...\n",
            "update-alternatives: using /usr/bin/chromium-browser to provide /usr/bin/x-www-browser (x-www-browser) in auto mode\n",
            "update-alternatives: using /usr/bin/chromium-browser to provide /usr/bin/gnome-www-browser (gnome-www-browser) in auto mode\n",
            "Setting up chromium-chromedriver (81.0.4044.138-0ubuntu0.18.04.1) ...\n",
            "Setting up chromium-browser-l10n (81.0.4044.138-0ubuntu0.18.04.1) ...\n",
            "Processing triggers for hicolor-icon-theme (0.17-2) ...\n",
            "Processing triggers for mime-support (3.60ubuntu1) ...\n",
            "Processing triggers for man-db (2.8.3-2ubuntu0.1) ...\n"
          ],
          "name": "stdout"
        }
      ]
    },
    {
      "cell_type": "code",
      "metadata": {
        "id": "1XEzUP30yIP_",
        "colab_type": "code",
        "outputId": "73a9577d-c4c9-41b4-c344-0b5b7cb66fe5",
        "colab": {
          "base_uri": "https://localhost:8080/",
          "height": 51
        }
      },
      "source": [
        "from selenium import webdriver\n",
        "chrome_options = webdriver.ChromeOptions()\n",
        "chrome_options.add_argument('--headless')\n",
        "chrome_options.add_argument('--no-sandbox')\n",
        "chrome_options.add_argument('--disable-dev-shm-usage')\n",
        "driver =webdriver.Chrome('chromedriver',chrome_options=chrome_options)"
      ],
      "execution_count": 0,
      "outputs": [
        {
          "output_type": "stream",
          "text": [
            "/usr/local/lib/python3.6/dist-packages/ipykernel_launcher.py:6: DeprecationWarning: use options instead of chrome_options\n",
            "  \n"
          ],
          "name": "stderr"
        }
      ]
    },
    {
      "cell_type": "markdown",
      "metadata": {
        "id": "ngunZ5LmyLPl",
        "colab_type": "text"
      },
      "source": [
        "# Try out a few things"
      ]
    },
    {
      "cell_type": "markdown",
      "metadata": {
        "id": "XJcPyMLi_IcI",
        "colab_type": "text"
      },
      "source": [
        "## Load the web page"
      ]
    },
    {
      "cell_type": "markdown",
      "metadata": {
        "id": "MOwYv0xQq_Hl",
        "colab_type": "text"
      },
      "source": [
        "https://forums.edmunds.com/discussion/2864/general/x/entry-level-luxury-performance-sedans/p2"
      ]
    },
    {
      "cell_type": "code",
      "metadata": {
        "id": "WQ6PrLJORbUe",
        "colab_type": "code",
        "colab": {}
      },
      "source": [
        "url_page = 'https://forums.edmunds.com/discussion/2864/general/x/entry-level-luxury-performance-sedans/'"
      ],
      "execution_count": 0,
      "outputs": []
    },
    {
      "cell_type": "code",
      "metadata": {
        "id": "fWI0el21pypu",
        "colab_type": "code",
        "colab": {}
      },
      "source": [
        "driver.get(url_page+'p2')"
      ],
      "execution_count": 0,
      "outputs": []
    },
    {
      "cell_type": "markdown",
      "metadata": {
        "id": "PlpkmCla_LOW",
        "colab_type": "text"
      },
      "source": [
        "## Get one Comment, name, date and message"
      ]
    },
    {
      "cell_type": "code",
      "metadata": {
        "id": "2QWDgxYd5NhY",
        "colab_type": "code",
        "outputId": "96e6de12-09da-48ff-985d-f23179fa69e5",
        "colab": {
          "base_uri": "https://localhost:8080/",
          "height": 34
        }
      },
      "source": [
        "userid_element = driver.find_elements_by_xpath('//li[@id=\"Comment_1738047\"]//a[@class=\"Username\"]')[0]\n",
        "userid = userid_element.text\n",
        "userid"
      ],
      "execution_count": 0,
      "outputs": [
        {
          "output_type": "execute_result",
          "data": {
            "text/plain": [
              "'wishnhigh1'"
            ]
          },
          "metadata": {
            "tags": []
          },
          "execution_count": 6
        }
      ]
    },
    {
      "cell_type": "code",
      "metadata": {
        "colab_type": "code",
        "outputId": "ba5aded1-d3f2-441e-a0f5-e9b80d3ece45",
        "id": "-ETxIvCa7Ma5",
        "colab": {
          "base_uri": "https://localhost:8080/",
          "height": 34
        }
      },
      "source": [
        "user_date = driver.find_elements_by_xpath(\"//li[@id='Comment_1738047']//a[@name='Item_51']//time\")[0]\n",
        "date = user_date.get_attribute('title')\n",
        "date"
      ],
      "execution_count": 0,
      "outputs": [
        {
          "output_type": "execute_result",
          "data": {
            "text/plain": [
              "'April 27, 2002 2:54PM'"
            ]
          },
          "metadata": {
            "tags": []
          },
          "execution_count": 7
        }
      ]
    },
    {
      "cell_type": "code",
      "metadata": {
        "id": "CGZBUrk573wu",
        "colab_type": "code",
        "outputId": "dace789d-cef3-4385-c60d-b9775bae1241",
        "colab": {
          "base_uri": "https://localhost:8080/",
          "height": 54
        }
      },
      "source": [
        "user_message = driver.find_elements_by_xpath(\"//li[@id='Comment_1738047']//div[@class='Message userContent']\")[0]\n",
        "comment = user_message.text\n",
        "comment"
      ],
      "execution_count": 0,
      "outputs": [
        {
          "output_type": "execute_result",
          "data": {
            "text/plain": [
              "\"The problem is that they are HUGE generalizations. Also, you are talking Japanese as almost exclusivly Honda and Toyota. What about Subaru, Mazda, Isuzu, Mitsubishi, Daihatsu, and Suzuki? So far the only makes that seem to keep with that Japanese Culture are Toyota and Honda.\\n\\nAnd many American and European makes are now capable of having higher quality than more than 70% of Japanese cars. Doesn't help your generalization that much, does it?\\n\\nSo where do the generalizations stop? They should stop with brands, and not nations.\""
            ]
          },
          "metadata": {
            "tags": []
          },
          "execution_count": 8
        }
      ]
    },
    {
      "cell_type": "markdown",
      "metadata": {
        "id": "Rc7X4DGf_QOE",
        "colab_type": "text"
      },
      "source": [
        "## Let's generliaze for one comment by writing functions"
      ]
    },
    {
      "cell_type": "code",
      "metadata": {
        "id": "7lVKZ4XNATzz",
        "colab_type": "code",
        "outputId": "5c6ab45b-81cb-4959-d21b-f691065d97c5",
        "colab": {
          "base_uri": "https://localhost:8080/",
          "height": 34
        }
      },
      "source": [
        "comment_id = 'Comment_1738047'\n",
        "comment_id"
      ],
      "execution_count": 0,
      "outputs": [
        {
          "output_type": "execute_result",
          "data": {
            "text/plain": [
              "'Comment_1738047'"
            ]
          },
          "metadata": {
            "tags": []
          },
          "execution_count": 9
        }
      ]
    },
    {
      "cell_type": "code",
      "metadata": {
        "id": "Zfb2qOXSEKif",
        "colab_type": "code",
        "outputId": "e4734bc7-027d-4fd3-a799-4a699b2cd6a2",
        "colab": {
          "base_uri": "https://localhost:8080/",
          "height": 34
        }
      },
      "source": [
        "def get_userid(id):\n",
        "    user_path = '//li[@id=\"' + id + '\"]//a[@class=\"Username\"]'\n",
        "    return driver.find_elements_by_xpath(user_path)[0].text\n",
        "\n",
        "get_userid(comment_id)"
      ],
      "execution_count": 0,
      "outputs": [
        {
          "output_type": "execute_result",
          "data": {
            "text/plain": [
              "'techhawk'"
            ]
          },
          "metadata": {
            "tags": []
          },
          "execution_count": 40
        }
      ]
    },
    {
      "cell_type": "code",
      "metadata": {
        "id": "yOVE5FsV-BhO",
        "colab_type": "code",
        "outputId": "4af149d0-c574-4261-b73e-cea4a3f90584",
        "colab": {
          "base_uri": "https://localhost:8080/",
          "height": 34
        }
      },
      "source": [
        "def get_date(id):\n",
        "  date_path = '//li[@id=\"' + id + '\"]//a//time'\n",
        "  return driver.find_elements_by_xpath(date_path)[0].get_attribute('title')\n",
        "\n",
        "get_date(comment_id)"
      ],
      "execution_count": 0,
      "outputs": [
        {
          "output_type": "execute_result",
          "data": {
            "text/plain": [
              "'September 16, 2002 2:38PM'"
            ]
          },
          "metadata": {
            "tags": []
          },
          "execution_count": 41
        }
      ]
    },
    {
      "cell_type": "code",
      "metadata": {
        "colab_type": "code",
        "outputId": "a39e8f2d-4484-4f42-e90b-c342afac8084",
        "id": "C-o13ZE--tEh",
        "colab": {
          "base_uri": "https://localhost:8080/",
          "height": 54
        }
      },
      "source": [
        "def get_message(id):\n",
        "    message_path = '//li[@id=\"' + id + '\"]//div[@class=\"Message userContent\"]'\n",
        "    return driver.find_elements_by_xpath(message_path)[0].text\n",
        "\n",
        "get_message(comment_id)\n"
      ],
      "execution_count": 0,
      "outputs": [
        {
          "output_type": "execute_result",
          "data": {
            "text/plain": [
              "\"These are three pretty different cars, so it really comes down to what you value. The Passat is a real bargain with the nicest and largest interior as well as elegant exterior styling. I looked hard at a GLX and W8 when I was shopping. The handling is pretty wallowing, and the power is just adequate (I'm a leadfoot ).\\n\\nThe 325i is fun and rewarding to drive, really nice handling and ergonomics. Its pretty small and the price goes up fast as you add options, and its also underpowered for my taste.\\n\\nI've never driven the C240. The C320 I drove was nice, but not terribly sporty and I was disappointed in the quality of some of the interior pieces (they need to see where VW gets their switches).\\n\\nAll three a very good cars, I could be happy with any of them based on my needs.\""
            ]
          },
          "metadata": {
            "tags": []
          },
          "execution_count": 42
        }
      ]
    },
    {
      "cell_type": "markdown",
      "metadata": {
        "id": "VXDYrCOK_xwp",
        "colab_type": "text"
      },
      "source": [
        "## Let's get a list of all comment on a page"
      ]
    },
    {
      "cell_type": "code",
      "metadata": {
        "id": "-_hnlFomHdNM",
        "colab_type": "code",
        "outputId": "079d600a-72cb-4cf5-f141-d8ec0fab14fa",
        "colab": {
          "base_uri": "https://localhost:8080/",
          "height": 54
        }
      },
      "source": [
        "def get_comment_info(comment_id):\n",
        "    #Extract dates from for each user on a page\n",
        "    user_date = get_date(comment_id)\n",
        "\n",
        "    #Extract user ids from each user on a page\n",
        "    user_id = get_userid(comment_id)\n",
        "\n",
        "    #Extract Message for each user on a page\n",
        "    user_message = get_message(comment_id)                                      \n",
        "   \n",
        "    return [user_date, user_id, user_message]\n",
        "\n",
        "\n",
        "print (comment_id, get_comment_info(comment_id))"
      ],
      "execution_count": 0,
      "outputs": [
        {
          "output_type": "stream",
          "text": [
            "Comment_1727067 ['September 16, 2002 2:38PM', 'techhawk', \"These are three pretty different cars, so it really comes down to what you value. The Passat is a real bargain with the nicest and largest interior as well as elegant exterior styling. I looked hard at a GLX and W8 when I was shopping. The handling is pretty wallowing, and the power is just adequate (I'm a leadfoot ).\\n\\nThe 325i is fun and rewarding to drive, really nice handling and ergonomics. Its pretty small and the price goes up fast as you add options, and its also underpowered for my taste.\\n\\nI've never driven the C240. The C320 I drove was nice, but not terribly sporty and I was disappointed in the quality of some of the interior pieces (they need to see where VW gets their switches).\\n\\nAll three a very good cars, I could be happy with any of them based on my needs.\"]\n"
          ],
          "name": "stdout"
        }
      ]
    },
    {
      "cell_type": "code",
      "metadata": {
        "id": "DrRWg9SMyyIk",
        "colab_type": "code",
        "colab": {}
      },
      "source": [
        "# Create an empty data frame\n",
        "import pandas as pd\n"
      ],
      "execution_count": 0,
      "outputs": []
    },
    {
      "cell_type": "code",
      "metadata": {
        "id": "Py9rIjWypyp_",
        "colab_type": "code",
        "colab": {}
      },
      "source": [
        "# get a list of all comment_ids in the page\n",
        "ids = driver.find_elements_by_xpath(\"//*[contains(@id,'Comment_')]\")\n",
        "comment_ids = []\n",
        "for i in ids:\n",
        "    comment_ids.append(i.get_attribute('id'))\n",
        "comment_ids"
      ],
      "execution_count": 0,
      "outputs": []
    },
    {
      "cell_type": "code",
      "metadata": {
        "id": "-PqClMcxy3D7",
        "colab_type": "code",
        "outputId": "6e097044-0053-480b-ae0a-350256a02785",
        "colab": {
          "base_uri": "https://localhost:8080/",
          "height": 187
        }
      },
      "source": [
        "comments = pd.DataFrame(columns = ['Date','UserID','Comment']) \n",
        "\n",
        "for comment_id  in comment_ids:\n",
        "    #Adding date, userid and comment for each user in a dataframe  \n",
        "    comments.loc[len(comments)] = get_comment_info(comment_id)\n",
        "\n",
        "comments.info()\n"
      ],
      "execution_count": 0,
      "outputs": [
        {
          "output_type": "stream",
          "text": [
            "<class 'pandas.core.frame.DataFrame'>\n",
            "Int64Index: 50 entries, 0 to 49\n",
            "Data columns (total 3 columns):\n",
            " #   Column   Non-Null Count  Dtype \n",
            "---  ------   --------------  ----- \n",
            " 0   Date     50 non-null     object\n",
            " 1   UserID   50 non-null     object\n",
            " 2   Comment  50 non-null     object\n",
            "dtypes: object(3)\n",
            "memory usage: 1.6+ KB\n"
          ],
          "name": "stdout"
        }
      ]
    },
    {
      "cell_type": "code",
      "metadata": {
        "id": "LGIfbTmBzEZd",
        "colab_type": "code",
        "outputId": "3031f042-7ca0-4de8-9922-4fa1d0e565bb",
        "colab": {
          "base_uri": "https://localhost:8080/",
          "height": 204
        }
      },
      "source": [
        "comments.head()"
      ],
      "execution_count": 0,
      "outputs": [
        {
          "output_type": "execute_result",
          "data": {
            "text/html": [
              "<div>\n",
              "<style scoped>\n",
              "    .dataframe tbody tr th:only-of-type {\n",
              "        vertical-align: middle;\n",
              "    }\n",
              "\n",
              "    .dataframe tbody tr th {\n",
              "        vertical-align: top;\n",
              "    }\n",
              "\n",
              "    .dataframe thead th {\n",
              "        text-align: right;\n",
              "    }\n",
              "</style>\n",
              "<table border=\"1\" class=\"dataframe\">\n",
              "  <thead>\n",
              "    <tr style=\"text-align: right;\">\n",
              "      <th></th>\n",
              "      <th>Date</th>\n",
              "      <th>UserID</th>\n",
              "      <th>Comment</th>\n",
              "    </tr>\n",
              "  </thead>\n",
              "  <tbody>\n",
              "    <tr>\n",
              "      <th>0</th>\n",
              "      <td>April 27, 2002 2:54PM</td>\n",
              "      <td>wishnhigh1</td>\n",
              "      <td>The problem is that they are HUGE generalizati...</td>\n",
              "    </tr>\n",
              "    <tr>\n",
              "      <th>1</th>\n",
              "      <td>April 27, 2002 7:38PM</td>\n",
              "      <td>kd6aw1</td>\n",
              "      <td>Have found out that with some of the more powe...</td>\n",
              "    </tr>\n",
              "    <tr>\n",
              "      <th>2</th>\n",
              "      <td>April 28, 2002 3:11AM</td>\n",
              "      <td>fwatson</td>\n",
              "      <td>How does your theory explain English cars? A c...</td>\n",
              "    </tr>\n",
              "    <tr>\n",
              "      <th>3</th>\n",
              "      <td>April 29, 2002 7:59AM</td>\n",
              "      <td>dave330i</td>\n",
              "      <td>\"Being that it is an automatic I can enjoy my ...</td>\n",
              "    </tr>\n",
              "    <tr>\n",
              "      <th>4</th>\n",
              "      <td>April 29, 2002 10:12AM</td>\n",
              "      <td>blueguydotcom</td>\n",
              "      <td>He did mention \"in rush hour traffic.\" Like th...</td>\n",
              "    </tr>\n",
              "  </tbody>\n",
              "</table>\n",
              "</div>"
            ],
            "text/plain": [
              "                     Date  ...                                            Comment\n",
              "0   April 27, 2002 2:54PM  ...  The problem is that they are HUGE generalizati...\n",
              "1   April 27, 2002 7:38PM  ...  Have found out that with some of the more powe...\n",
              "2   April 28, 2002 3:11AM  ...  How does your theory explain English cars? A c...\n",
              "3   April 29, 2002 7:59AM  ...  \"Being that it is an automatic I can enjoy my ...\n",
              "4  April 29, 2002 10:12AM  ...  He did mention \"in rush hour traffic.\" Like th...\n",
              "\n",
              "[5 rows x 3 columns]"
            ]
          },
          "metadata": {
            "tags": []
          },
          "execution_count": 35
        }
      ]
    },
    {
      "cell_type": "code",
      "metadata": {
        "id": "6SlRFGHEzIMc",
        "colab_type": "code",
        "outputId": "0c7cd1cb-35ff-4d72-ac99-4021d67da76b",
        "colab": {
          "base_uri": "https://localhost:8080/",
          "height": 204
        }
      },
      "source": [
        "comments.tail()"
      ],
      "execution_count": 0,
      "outputs": [
        {
          "output_type": "execute_result",
          "data": {
            "text/html": [
              "<div>\n",
              "<style scoped>\n",
              "    .dataframe tbody tr th:only-of-type {\n",
              "        vertical-align: middle;\n",
              "    }\n",
              "\n",
              "    .dataframe tbody tr th {\n",
              "        vertical-align: top;\n",
              "    }\n",
              "\n",
              "    .dataframe thead th {\n",
              "        text-align: right;\n",
              "    }\n",
              "</style>\n",
              "<table border=\"1\" class=\"dataframe\">\n",
              "  <thead>\n",
              "    <tr style=\"text-align: right;\">\n",
              "      <th></th>\n",
              "      <th>Date</th>\n",
              "      <th>UserID</th>\n",
              "      <th>Comment</th>\n",
              "    </tr>\n",
              "  </thead>\n",
              "  <tbody>\n",
              "    <tr>\n",
              "      <th>45</th>\n",
              "      <td>September 15, 2002 12:53AM</td>\n",
              "      <td>jagboyxtype</td>\n",
              "      <td>Some Acuras are experiencing very serious prob...</td>\n",
              "    </tr>\n",
              "    <tr>\n",
              "      <th>46</th>\n",
              "      <td>September 16, 2002 7:06AM</td>\n",
              "      <td>jpnwdc</td>\n",
              "      <td>I am having the hardest time choosing a replac...</td>\n",
              "    </tr>\n",
              "    <tr>\n",
              "      <th>47</th>\n",
              "      <td>September 16, 2002 12:29PM</td>\n",
              "      <td>kdshapiro</td>\n",
              "      <td>Add the following cons to the Mercedes and VW:...</td>\n",
              "    </tr>\n",
              "    <tr>\n",
              "      <th>48</th>\n",
              "      <td>September 16, 2002 2:18PM</td>\n",
              "      <td>jpnwdc</td>\n",
              "      <td>kdshapiro - thanks for your post.\\n\\nI'm findi...</td>\n",
              "    </tr>\n",
              "    <tr>\n",
              "      <th>49</th>\n",
              "      <td>September 16, 2002 2:38PM</td>\n",
              "      <td>techhawk</td>\n",
              "      <td>These are three pretty different cars, so it r...</td>\n",
              "    </tr>\n",
              "  </tbody>\n",
              "</table>\n",
              "</div>"
            ],
            "text/plain": [
              "                          Date  ...                                            Comment\n",
              "45  September 15, 2002 12:53AM  ...  Some Acuras are experiencing very serious prob...\n",
              "46   September 16, 2002 7:06AM  ...  I am having the hardest time choosing a replac...\n",
              "47  September 16, 2002 12:29PM  ...  Add the following cons to the Mercedes and VW:...\n",
              "48   September 16, 2002 2:18PM  ...  kdshapiro - thanks for your post.\\n\\nI'm findi...\n",
              "49   September 16, 2002 2:38PM  ...  These are three pretty different cars, so it r...\n",
              "\n",
              "[5 rows x 3 columns]"
            ]
          },
          "metadata": {
            "tags": []
          },
          "execution_count": 36
        }
      ]
    },
    {
      "cell_type": "markdown",
      "metadata": {
        "id": "9_aC1i77Gj9S",
        "colab_type": "text"
      },
      "source": [
        "## Let's generalize for a page"
      ]
    },
    {
      "cell_type": "code",
      "metadata": {
        "id": "N1v5etT0Gga3",
        "colab_type": "code",
        "colab": {}
      },
      "source": [
        "def get_comments_for_page(page_num):\n",
        "    # load the page\n",
        "    driver.get('https://forums.edmunds.com/discussion/2864/general/x/entry-level-luxury-performance-sedans/p'+str(page_num))\n",
        "\n",
        "    #get the list of ids\n",
        "    ids = driver.find_elements_by_xpath(\"//*[contains(@id,'Comment_')]\")\n",
        "\n",
        "    #get comments for all ids in the page\n",
        "    comment_ids = []\n",
        "    for i in ids:\n",
        "        comment_ids.append(i.get_attribute('id'))\n",
        "\n",
        "    for comment_id  in comment_ids:\n",
        "      #Adding date, userid and comment for each user in a dataframe  \n",
        "      comments_pd.loc[len(comments_pd)] = get_comment_info(comment_id)\n",
        "    return 0\n",
        "\n",
        "\n"
      ],
      "execution_count": 0,
      "outputs": []
    },
    {
      "cell_type": "code",
      "metadata": {
        "id": "lpIrnEiSSger",
        "colab_type": "code",
        "outputId": "217cb765-bc5c-42f8-a8a2-d5883d8a8962",
        "colab": {
          "base_uri": "https://localhost:8080/",
          "height": 187
        }
      },
      "source": [
        "comments_pd = pd.DataFrame(columns = ['Date','UserId','Comments']) \n",
        "get_comments_for_page(2)\n",
        "comments_pd.info()"
      ],
      "execution_count": 0,
      "outputs": [
        {
          "output_type": "stream",
          "text": [
            "<class 'pandas.core.frame.DataFrame'>\n",
            "Int64Index: 50 entries, 0 to 49\n",
            "Data columns (total 3 columns):\n",
            " #   Column    Non-Null Count  Dtype \n",
            "---  ------    --------------  ----- \n",
            " 0   Date      50 non-null     object\n",
            " 1   UserId    50 non-null     object\n",
            " 2   Comments  50 non-null     object\n",
            "dtypes: object(3)\n",
            "memory usage: 1.6+ KB\n"
          ],
          "name": "stdout"
        }
      ]
    },
    {
      "cell_type": "code",
      "metadata": {
        "id": "Qqoopb31JhmS",
        "colab_type": "code",
        "outputId": "7f155602-5d73-4e50-f7d0-601522ce999d",
        "colab": {
          "base_uri": "https://localhost:8080/",
          "height": 204
        }
      },
      "source": [
        "comments_pd.head()"
      ],
      "execution_count": 0,
      "outputs": [
        {
          "output_type": "execute_result",
          "data": {
            "text/html": [
              "<div>\n",
              "<style scoped>\n",
              "    .dataframe tbody tr th:only-of-type {\n",
              "        vertical-align: middle;\n",
              "    }\n",
              "\n",
              "    .dataframe tbody tr th {\n",
              "        vertical-align: top;\n",
              "    }\n",
              "\n",
              "    .dataframe thead th {\n",
              "        text-align: right;\n",
              "    }\n",
              "</style>\n",
              "<table border=\"1\" class=\"dataframe\">\n",
              "  <thead>\n",
              "    <tr style=\"text-align: right;\">\n",
              "      <th></th>\n",
              "      <th>Date</th>\n",
              "      <th>UserId</th>\n",
              "      <th>Comments</th>\n",
              "    </tr>\n",
              "  </thead>\n",
              "  <tbody>\n",
              "    <tr>\n",
              "      <th>0</th>\n",
              "      <td>April 27, 2002 2:54PM</td>\n",
              "      <td>wishnhigh1</td>\n",
              "      <td>The problem is that they are HUGE generalizati...</td>\n",
              "    </tr>\n",
              "    <tr>\n",
              "      <th>1</th>\n",
              "      <td>April 27, 2002 7:38PM</td>\n",
              "      <td>kd6aw1</td>\n",
              "      <td>Have found out that with some of the more powe...</td>\n",
              "    </tr>\n",
              "    <tr>\n",
              "      <th>2</th>\n",
              "      <td>April 28, 2002 3:11AM</td>\n",
              "      <td>fwatson</td>\n",
              "      <td>How does your theory explain English cars? A c...</td>\n",
              "    </tr>\n",
              "    <tr>\n",
              "      <th>3</th>\n",
              "      <td>April 29, 2002 7:59AM</td>\n",
              "      <td>dave330i</td>\n",
              "      <td>\"Being that it is an automatic I can enjoy my ...</td>\n",
              "    </tr>\n",
              "    <tr>\n",
              "      <th>4</th>\n",
              "      <td>April 29, 2002 10:12AM</td>\n",
              "      <td>blueguydotcom</td>\n",
              "      <td>He did mention \"in rush hour traffic.\" Like th...</td>\n",
              "    </tr>\n",
              "  </tbody>\n",
              "</table>\n",
              "</div>"
            ],
            "text/plain": [
              "                     Date  ...                                           Comments\n",
              "0   April 27, 2002 2:54PM  ...  The problem is that they are HUGE generalizati...\n",
              "1   April 27, 2002 7:38PM  ...  Have found out that with some of the more powe...\n",
              "2   April 28, 2002 3:11AM  ...  How does your theory explain English cars? A c...\n",
              "3   April 29, 2002 7:59AM  ...  \"Being that it is an automatic I can enjoy my ...\n",
              "4  April 29, 2002 10:12AM  ...  He did mention \"in rush hour traffic.\" Like th...\n",
              "\n",
              "[5 rows x 3 columns]"
            ]
          },
          "metadata": {
            "tags": []
          },
          "execution_count": 57
        }
      ]
    },
    {
      "cell_type": "code",
      "metadata": {
        "id": "ma08C6rwvqMh",
        "colab_type": "code",
        "outputId": "3273cef3-8cf6-49f3-f89d-d0689f7729a3",
        "colab": {
          "base_uri": "https://localhost:8080/",
          "height": 204
        }
      },
      "source": [
        "comments_pd.tail()"
      ],
      "execution_count": 0,
      "outputs": [
        {
          "output_type": "execute_result",
          "data": {
            "text/html": [
              "<div>\n",
              "<style scoped>\n",
              "    .dataframe tbody tr th:only-of-type {\n",
              "        vertical-align: middle;\n",
              "    }\n",
              "\n",
              "    .dataframe tbody tr th {\n",
              "        vertical-align: top;\n",
              "    }\n",
              "\n",
              "    .dataframe thead th {\n",
              "        text-align: right;\n",
              "    }\n",
              "</style>\n",
              "<table border=\"1\" class=\"dataframe\">\n",
              "  <thead>\n",
              "    <tr style=\"text-align: right;\">\n",
              "      <th></th>\n",
              "      <th>Date</th>\n",
              "      <th>UserId</th>\n",
              "      <th>Comments</th>\n",
              "    </tr>\n",
              "  </thead>\n",
              "  <tbody>\n",
              "    <tr>\n",
              "      <th>45</th>\n",
              "      <td>September 15, 2002 12:53AM</td>\n",
              "      <td>jagboyxtype</td>\n",
              "      <td>Some Acuras are experiencing very serious prob...</td>\n",
              "    </tr>\n",
              "    <tr>\n",
              "      <th>46</th>\n",
              "      <td>September 16, 2002 7:06AM</td>\n",
              "      <td>jpnwdc</td>\n",
              "      <td>I am having the hardest time choosing a replac...</td>\n",
              "    </tr>\n",
              "    <tr>\n",
              "      <th>47</th>\n",
              "      <td>September 16, 2002 12:29PM</td>\n",
              "      <td>kdshapiro</td>\n",
              "      <td>Add the following cons to the Mercedes and VW:...</td>\n",
              "    </tr>\n",
              "    <tr>\n",
              "      <th>48</th>\n",
              "      <td>September 16, 2002 2:18PM</td>\n",
              "      <td>jpnwdc</td>\n",
              "      <td>kdshapiro - thanks for your post.\\n\\nI'm findi...</td>\n",
              "    </tr>\n",
              "    <tr>\n",
              "      <th>49</th>\n",
              "      <td>September 16, 2002 2:38PM</td>\n",
              "      <td>techhawk</td>\n",
              "      <td>These are three pretty different cars, so it r...</td>\n",
              "    </tr>\n",
              "  </tbody>\n",
              "</table>\n",
              "</div>"
            ],
            "text/plain": [
              "                          Date  ...                                           Comments\n",
              "45  September 15, 2002 12:53AM  ...  Some Acuras are experiencing very serious prob...\n",
              "46   September 16, 2002 7:06AM  ...  I am having the hardest time choosing a replac...\n",
              "47  September 16, 2002 12:29PM  ...  Add the following cons to the Mercedes and VW:...\n",
              "48   September 16, 2002 2:18PM  ...  kdshapiro - thanks for your post.\\n\\nI'm findi...\n",
              "49   September 16, 2002 2:38PM  ...  These are three pretty different cars, so it r...\n",
              "\n",
              "[5 rows x 3 columns]"
            ]
          },
          "metadata": {
            "tags": []
          },
          "execution_count": 56
        }
      ]
    },
    {
      "cell_type": "markdown",
      "metadata": {
        "id": "C7QMkrVDzPdh",
        "colab_type": "text"
      },
      "source": [
        "# Get Complete from all pages"
      ]
    },
    {
      "cell_type": "code",
      "metadata": {
        "id": "wAPsMFvEpyqJ",
        "colab_type": "code",
        "outputId": "c673a061-2b65-42ab-cfb0-49882f2ae7a1",
        "colab": {
          "base_uri": "https://localhost:8080/",
          "height": 187
        }
      },
      "source": [
        "start_page = 2\n",
        "end_page = 10\n",
        "comments_pd = pd.DataFrame(columns = ['Date','UserId','Comments']) \n",
        "for i in range(start_page,end_page+1):\n",
        "    get_comments_for_page(i)\n",
        "\n",
        "comments_pd.info()"
      ],
      "execution_count": 0,
      "outputs": [
        {
          "output_type": "stream",
          "text": [
            "<class 'pandas.core.frame.DataFrame'>\n",
            "Int64Index: 450 entries, 0 to 449\n",
            "Data columns (total 3 columns):\n",
            " #   Column    Non-Null Count  Dtype \n",
            "---  ------    --------------  ----- \n",
            " 0   Date      450 non-null    object\n",
            " 1   UserId    450 non-null    object\n",
            " 2   Comments  450 non-null    object\n",
            "dtypes: object(3)\n",
            "memory usage: 14.1+ KB\n"
          ],
          "name": "stdout"
        }
      ]
    },
    {
      "cell_type": "code",
      "metadata": {
        "id": "abTdnwsYzeJV",
        "colab_type": "code",
        "outputId": "f52626b3-d7df-4732-bea2-9cb290ab91c4",
        "colab": {
          "base_uri": "https://localhost:8080/",
          "height": 204
        }
      },
      "source": [
        "comments_pd.head()"
      ],
      "execution_count": 0,
      "outputs": [
        {
          "output_type": "execute_result",
          "data": {
            "text/html": [
              "<div>\n",
              "<style scoped>\n",
              "    .dataframe tbody tr th:only-of-type {\n",
              "        vertical-align: middle;\n",
              "    }\n",
              "\n",
              "    .dataframe tbody tr th {\n",
              "        vertical-align: top;\n",
              "    }\n",
              "\n",
              "    .dataframe thead th {\n",
              "        text-align: right;\n",
              "    }\n",
              "</style>\n",
              "<table border=\"1\" class=\"dataframe\">\n",
              "  <thead>\n",
              "    <tr style=\"text-align: right;\">\n",
              "      <th></th>\n",
              "      <th>Date</th>\n",
              "      <th>UserId</th>\n",
              "      <th>Comments</th>\n",
              "    </tr>\n",
              "  </thead>\n",
              "  <tbody>\n",
              "    <tr>\n",
              "      <th>0</th>\n",
              "      <td>April 27, 2002 2:54PM</td>\n",
              "      <td>wishnhigh1</td>\n",
              "      <td>The problem is that they are HUGE generalizati...</td>\n",
              "    </tr>\n",
              "    <tr>\n",
              "      <th>1</th>\n",
              "      <td>April 27, 2002 7:38PM</td>\n",
              "      <td>kd6aw1</td>\n",
              "      <td>Have found out that with some of the more powe...</td>\n",
              "    </tr>\n",
              "    <tr>\n",
              "      <th>2</th>\n",
              "      <td>April 28, 2002 3:11AM</td>\n",
              "      <td>fwatson</td>\n",
              "      <td>How does your theory explain English cars? A c...</td>\n",
              "    </tr>\n",
              "    <tr>\n",
              "      <th>3</th>\n",
              "      <td>April 29, 2002 7:59AM</td>\n",
              "      <td>dave330i</td>\n",
              "      <td>\"Being that it is an automatic I can enjoy my ...</td>\n",
              "    </tr>\n",
              "    <tr>\n",
              "      <th>4</th>\n",
              "      <td>April 29, 2002 10:12AM</td>\n",
              "      <td>blueguydotcom</td>\n",
              "      <td>He did mention \"in rush hour traffic.\" Like th...</td>\n",
              "    </tr>\n",
              "  </tbody>\n",
              "</table>\n",
              "</div>"
            ],
            "text/plain": [
              "                     Date  ...                                           Comments\n",
              "0   April 27, 2002 2:54PM  ...  The problem is that they are HUGE generalizati...\n",
              "1   April 27, 2002 7:38PM  ...  Have found out that with some of the more powe...\n",
              "2   April 28, 2002 3:11AM  ...  How does your theory explain English cars? A c...\n",
              "3   April 29, 2002 7:59AM  ...  \"Being that it is an automatic I can enjoy my ...\n",
              "4  April 29, 2002 10:12AM  ...  He did mention \"in rush hour traffic.\" Like th...\n",
              "\n",
              "[5 rows x 3 columns]"
            ]
          },
          "metadata": {
            "tags": []
          },
          "execution_count": 59
        }
      ]
    },
    {
      "cell_type": "code",
      "metadata": {
        "id": "vM6Oj9xUzxga",
        "colab_type": "code",
        "outputId": "9bf53dba-8384-45ba-96ce-3d65bc0e65fb",
        "colab": {
          "base_uri": "https://localhost:8080/",
          "height": 204
        }
      },
      "source": [
        "comments_pd.tail()"
      ],
      "execution_count": 0,
      "outputs": [
        {
          "output_type": "execute_result",
          "data": {
            "text/html": [
              "<div>\n",
              "<style scoped>\n",
              "    .dataframe tbody tr th:only-of-type {\n",
              "        vertical-align: middle;\n",
              "    }\n",
              "\n",
              "    .dataframe tbody tr th {\n",
              "        vertical-align: top;\n",
              "    }\n",
              "\n",
              "    .dataframe thead th {\n",
              "        text-align: right;\n",
              "    }\n",
              "</style>\n",
              "<table border=\"1\" class=\"dataframe\">\n",
              "  <thead>\n",
              "    <tr style=\"text-align: right;\">\n",
              "      <th></th>\n",
              "      <th>Date</th>\n",
              "      <th>UserId</th>\n",
              "      <th>Comments</th>\n",
              "    </tr>\n",
              "  </thead>\n",
              "  <tbody>\n",
              "    <tr>\n",
              "      <th>445</th>\n",
              "      <td>January 10, 2004 1:33PM</td>\n",
              "      <td>saugatak</td>\n",
              "      <td>riez, i agree with you 100%. you can't even ju...</td>\n",
              "    </tr>\n",
              "    <tr>\n",
              "      <th>446</th>\n",
              "      <td>January 11, 2004 6:47AM</td>\n",
              "      <td>kdshapiro</td>\n",
              "      <td>\"others don't have much but put all their cash...</td>\n",
              "    </tr>\n",
              "    <tr>\n",
              "      <th>447</th>\n",
              "      <td>January 15, 2004 8:58AM</td>\n",
              "      <td>mohatu</td>\n",
              "      <td>What a rhetorical question... Of course, it's ...</td>\n",
              "    </tr>\n",
              "    <tr>\n",
              "      <th>448</th>\n",
              "      <td>January 15, 2004 9:33AM</td>\n",
              "      <td>kdshapiro</td>\n",
              "      <td>\"What a rhetorical question... Of course, it's...</td>\n",
              "    </tr>\n",
              "    <tr>\n",
              "      <th>449</th>\n",
              "      <td>January 15, 2004 9:46AM</td>\n",
              "      <td>shipo</td>\n",
              "      <td>I'm hoping to be old, rich, healthy, driving a...</td>\n",
              "    </tr>\n",
              "  </tbody>\n",
              "</table>\n",
              "</div>"
            ],
            "text/plain": [
              "                        Date  ...                                           Comments\n",
              "445  January 10, 2004 1:33PM  ...  riez, i agree with you 100%. you can't even ju...\n",
              "446  January 11, 2004 6:47AM  ...  \"others don't have much but put all their cash...\n",
              "447  January 15, 2004 8:58AM  ...  What a rhetorical question... Of course, it's ...\n",
              "448  January 15, 2004 9:33AM  ...  \"What a rhetorical question... Of course, it's...\n",
              "449  January 15, 2004 9:46AM  ...  I'm hoping to be old, rich, healthy, driving a...\n",
              "\n",
              "[5 rows x 3 columns]"
            ]
          },
          "metadata": {
            "tags": []
          },
          "execution_count": 60
        }
      ]
    },
    {
      "cell_type": "code",
      "metadata": {
        "id": "RrdK2z3mzzUg",
        "colab_type": "code",
        "colab": {}
      },
      "source": [
        "comments_pd['UserId'].value_counts()"
      ],
      "execution_count": 0,
      "outputs": []
    },
    {
      "cell_type": "code",
      "metadata": {
        "id": "pZjWzuhl0pFa",
        "colab_type": "code",
        "colab": {}
      },
      "source": [
        ""
      ],
      "execution_count": 0,
      "outputs": []
    }
  ]
}