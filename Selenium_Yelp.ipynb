{
  "nbformat": 4,
  "nbformat_minor": 0,
  "metadata": {
    "colab": {
      "name": "Selenium Yelp.ipynb",
      "provenance": [],
      "include_colab_link": true
    },
    "kernelspec": {
      "name": "python3",
      "display_name": "Python 3"
    }
  },
  "cells": [
    {
      "cell_type": "markdown",
      "metadata": {
        "id": "view-in-github",
        "colab_type": "text"
      },
      "source": [
        "<a href=\"https://colab.research.google.com/github/commd/08-2016-infinite-loops/blob/master/Selenium_Yelp.ipynb\" target=\"_parent\"><img src=\"https://colab.research.google.com/assets/colab-badge.svg\" alt=\"Open In Colab\"/></a>"
      ]
    },
    {
      "cell_type": "markdown",
      "metadata": {
        "id": "XgdhQb8syOk2",
        "colab_type": "text"
      },
      "source": [
        "# Setup"
      ]
    },
    {
      "cell_type": "code",
      "metadata": {
        "id": "MEHDC-XyxAIn",
        "colab_type": "code",
        "colab": {}
      },
      "source": [
        "!pip install selenium\n",
        "!apt-get update -qq\n",
        "!apt install chromium-chromedriver -qq"
      ],
      "execution_count": 0,
      "outputs": []
    },
    {
      "cell_type": "code",
      "metadata": {
        "id": "1XEzUP30yIP_",
        "colab_type": "code",
        "outputId": "ac62c5d7-c87d-476b-cdca-03621005bc10",
        "colab": {
          "base_uri": "https://localhost:8080/",
          "height": 51
        }
      },
      "source": [
        "from selenium import webdriver\n",
        "chrome_options = webdriver.ChromeOptions()\n",
        "chrome_options.add_argument('--headless')\n",
        "chrome_options.add_argument('--no-sandbox')\n",
        "chrome_options.add_argument('--disable-dev-shm-usage')\n",
        "driver =webdriver.Chrome('chromedriver',chrome_options=chrome_options)"
      ],
      "execution_count": 0,
      "outputs": [
        {
          "output_type": "stream",
          "text": [
            "/usr/local/lib/python3.6/dist-packages/ipykernel_launcher.py:6: DeprecationWarning: use options instead of chrome_options\n",
            "  \n"
          ],
          "name": "stderr"
        }
      ]
    },
    {
      "cell_type": "markdown",
      "metadata": {
        "id": "ngunZ5LmyLPl",
        "colab_type": "text"
      },
      "source": [
        "# Try out a few things"
      ]
    },
    {
      "cell_type": "markdown",
      "metadata": {
        "id": "XJcPyMLi_IcI",
        "colab_type": "text"
      },
      "source": [
        "## Load the web page"
      ]
    },
    {
      "cell_type": "code",
      "metadata": {
        "id": "WQ6PrLJORbUe",
        "colab_type": "code",
        "colab": {}
      },
      "source": [
        "url_page = 'https://www.yelp.com/biz/orchard-city-kitchen-campbell'\n",
        "url_page = 'https://www.yelp.com/biz/puranpoli-santa-clara'"
      ],
      "execution_count": 0,
      "outputs": []
    },
    {
      "cell_type": "code",
      "metadata": {
        "id": "fWI0el21pypu",
        "colab_type": "code",
        "colab": {}
      },
      "source": [
        "driver.get(url_page)"
      ],
      "execution_count": 0,
      "outputs": []
    },
    {
      "cell_type": "markdown",
      "metadata": {
        "id": "PlpkmCla_LOW",
        "colab_type": "text"
      },
      "source": [
        "## Get one Comment, name, date and message"
      ]
    },
    {
      "cell_type": "code",
      "metadata": {
        "id": "an4v8WHrIfCl",
        "colab_type": "code",
        "outputId": "a431ce88-7407-4639-8552-769b58969882",
        "colab": {
          "base_uri": "https://localhost:8080/",
          "height": 34
        }
      },
      "source": [
        "#getting how many messages are in this page\n",
        "ids = driver.find_elements_by_xpath(\"//*[contains(@class,'lemon--div__373c0__1mboc user-passport-info border-color--default__373c0__3-ifU')]\")\n",
        "len(ids)"
      ],
      "execution_count": 0,
      "outputs": [
        {
          "output_type": "execute_result",
          "data": {
            "text/plain": [
              "20"
            ]
          },
          "metadata": {
            "tags": []
          },
          "execution_count": 28
        }
      ]
    },
    {
      "cell_type": "code",
      "metadata": {
        "id": "ZjDMKTo2ImXg",
        "colab_type": "code",
        "outputId": "ae69b14c-96b3-4e1c-e459-ecf6bf89b34c",
        "colab": {
          "base_uri": "https://localhost:8080/",
          "height": 34
        }
      },
      "source": [
        "xpath = \"//li[1]//div[1]//div[2]//div[1]//div[1]//div[1]//span[1]//div[1]\"\n",
        "userid_element = driver.find_elements_by_xpath(xpath)[0]\n",
        "userid = userid_element.get_attribute(\"aria-label\")\n",
        "print(userid)"
      ],
      "execution_count": 0,
      "outputs": [
        {
          "output_type": "stream",
          "text": [
            "5 star rating\n"
          ],
          "name": "stdout"
        }
      ]
    },
    {
      "cell_type": "code",
      "metadata": {
        "id": "SjA-3EBXIrP-",
        "colab_type": "code",
        "outputId": "e4a70442-7ec0-47be-afe8-31c60c3d3f22",
        "colab": {
          "base_uri": "https://localhost:8080/",
          "height": 357
        }
      },
      "source": [
        "for i in range(0,len(ids)):\n",
        "  xpath = \"//li[\" + str(i+1) + \"]//div[1]//div[2]//div[1]//div[1]//div[1]//span[1]//div[1]\"\n",
        "  rating_element = driver.find_elements_by_xpath(xpath)[0]\n",
        "  rating = rating_element.get_attribute(\"aria-label\")\n",
        "  print(rating)\n",
        "\n"
      ],
      "execution_count": 0,
      "outputs": [
        {
          "output_type": "stream",
          "text": [
            "5 star rating\n",
            "5 star rating\n",
            "5 star rating\n",
            "5 star rating\n",
            "5 star rating\n",
            "4 star rating\n",
            "4 star rating\n",
            "4 star rating\n",
            "3 star rating\n",
            "5 star rating\n",
            "5 star rating\n",
            "5 star rating\n",
            "3 star rating\n",
            "5 star rating\n",
            "4 star rating\n",
            "4 star rating\n",
            "4 star rating\n",
            "5 star rating\n",
            "3 star rating\n",
            "3 star rating\n"
          ],
          "name": "stdout"
        }
      ]
    },
    {
      "cell_type": "code",
      "metadata": {
        "id": "9f6idJCYdEK3",
        "colab_type": "code",
        "colab": {}
      },
      "source": [
        "import pandas as pd\n"
      ],
      "execution_count": 0,
      "outputs": []
    },
    {
      "cell_type": "code",
      "metadata": {
        "colab_type": "code",
        "id": "Cn6IXmyPLPQQ",
        "outputId": "cd627ce4-2be7-405d-f363-77c277c368fb",
        "colab": {
          "base_uri": "https://localhost:8080/",
          "height": 765
        }
      },
      "source": [
        "url_page = 'https://www.yelp.com/biz/orchard-city-kitchen-campbell'\n",
        "#url_page = 'https://www.yelp.com/biz/puranpoli-santa-clara'\n",
        "page_num = 0\n",
        "cnt = 0\n",
        "driver =webdriver.Chrome('chromedriver',chrome_options=chrome_options)\n",
        "driver.get(url_page)\n",
        "entity_name = url_page.split(\"/\")[-1]\n",
        "\n",
        "user_message = driver.find_elements_by_xpath(\"//span[contains(text(),'1 of ')]\")[0]\n",
        "comment = user_message.text.split()\n",
        "pages = int(comment[2])\n",
        "\n",
        "msg_pd =  pd.DataFrame(columns = ['Entity','UserName',\"Date\", \"Rating\",'Comment']) \n",
        "\n",
        "\n",
        "while (page_num < min(pages,20)):\n",
        "  ids = driver.find_elements_by_xpath(\"//*[contains(@class,'lemon--div__373c0__1mboc user-passport-info border-color--default__373c0__3-ifU')]\")\n",
        "  print(page_num)\n",
        "  for i in range(0,len(ids)):\n",
        "    name_path =  \"//div[@id='wrap']/div/div/div/div/div/div/div/div/section/div/div/ul/li[\" + str(i+1) + \"]/div[1]\"\n",
        "    name_element = driver.find_elements_by_xpath(name_path)[0]\n",
        "    name = name_element.text.split(\"\\n\")\n",
        "\n",
        "    msg_date = driver.find_elements_by_xpath(\"//div[@id='wrap']/div/div/div/div/div/div/div/div/section/div/div/ul/li[\" + str(i+1) +  \"]/div[1]/div[2]\")[0]\n",
        "    date_text = msg_date.text.split(\"\\n\")[0]\n",
        "\n",
        "    xpath = \"//li[\" + str(i+1) + \"]//div[1]//div[2]//div[1]//div[1]//div[1]//span[1]//div[1]\"\n",
        "    rating_element = driver.find_elements_by_xpath(xpath)[0]\n",
        "    rating = rating_element.get_attribute(\"aria-label\")\n",
        "\n",
        "    name_path =  \"//div[@id='wrap']/div/div/div/div/div/div/div/div/section/div/div/ul/li[\" + str(i+1) + \"]/div[1]/div[2]/div[2]\"\n",
        "    userid_element = driver.find_elements_by_xpath(name_path)[0]\n",
        "    msg = userid_element.text\n",
        "    words = msg.split()\n",
        "    if len(words) > 1:\n",
        "      last_word = words[1]\n",
        "      if last_word == \"photos\" or last_word == \"photo\":\n",
        "        msg_path = \"//div[@id='wrap']/div/div/div/div/div/div/div/div/section/div/div/ul/li[\" + str(i+1) + \"]/div[1]/div[2]/div[3]\"\n",
        "        msg_element = driver.find_elements_by_xpath(msg_path)[0]\n",
        "        msg = msg_element.text\n",
        "\n",
        "    #print(\"===>\", name[0], \"===>\",msg)\n",
        "    msg_pd.loc[len(msg_pd)] = [entity_name, name[0],date_text,rating, msg]\n",
        "  cnt += len(ids)\n",
        "  print(page_num)\n",
        "  page_num += 1\n",
        "  driver.get(url_page + \"?start=\" + (str(cnt)))\n",
        "    "
      ],
      "execution_count": 0,
      "outputs": [
        {
          "output_type": "stream",
          "text": [
            "/usr/local/lib/python3.6/dist-packages/ipykernel_launcher.py:5: DeprecationWarning: use options instead of chrome_options\n",
            "  \"\"\"\n"
          ],
          "name": "stderr"
        },
        {
          "output_type": "stream",
          "text": [
            "0\n",
            "0\n",
            "1\n",
            "1\n",
            "2\n",
            "2\n",
            "3\n",
            "3\n",
            "4\n",
            "4\n",
            "5\n",
            "5\n",
            "6\n",
            "6\n",
            "7\n",
            "7\n",
            "8\n",
            "8\n",
            "9\n",
            "9\n",
            "10\n",
            "10\n",
            "11\n",
            "11\n",
            "12\n",
            "12\n",
            "13\n",
            "13\n",
            "14\n",
            "14\n",
            "15\n",
            "15\n",
            "16\n",
            "16\n",
            "17\n",
            "17\n",
            "18\n",
            "18\n",
            "19\n",
            "19\n",
            "CPU times: user 5.92 s, sys: 234 ms, total: 6.16 s\n",
            "Wall time: 3min 58s\n"
          ],
          "name": "stdout"
        }
      ]
    },
    {
      "cell_type": "code",
      "metadata": {
        "id": "Rqhfpv4qesUv",
        "colab_type": "code",
        "outputId": "eb5664bd-ea29-49ae-f597-6c20b37959a1",
        "colab": {
          "base_uri": "https://localhost:8080/",
          "height": 221
        }
      },
      "source": [
        "msg_pd.info()"
      ],
      "execution_count": 0,
      "outputs": [
        {
          "output_type": "stream",
          "text": [
            "<class 'pandas.core.frame.DataFrame'>\n",
            "Int64Index: 400 entries, 0 to 399\n",
            "Data columns (total 5 columns):\n",
            " #   Column    Non-Null Count  Dtype \n",
            "---  ------    --------------  ----- \n",
            " 0   Entity    400 non-null    object\n",
            " 1   UserName  400 non-null    object\n",
            " 2   Date      400 non-null    object\n",
            " 3   Rating    400 non-null    object\n",
            " 4   Comment   400 non-null    object\n",
            "dtypes: object(5)\n",
            "memory usage: 18.8+ KB\n"
          ],
          "name": "stdout"
        }
      ]
    },
    {
      "cell_type": "code",
      "metadata": {
        "id": "WPLqXGQ7ewCf",
        "colab_type": "code",
        "outputId": "743804bd-5cf5-48e5-b386-28ee780fc6a0",
        "colab": {
          "base_uri": "https://localhost:8080/",
          "height": 204
        }
      },
      "source": [
        "msg_pd.head()"
      ],
      "execution_count": 0,
      "outputs": [
        {
          "output_type": "execute_result",
          "data": {
            "text/html": [
              "<div>\n",
              "<style scoped>\n",
              "    .dataframe tbody tr th:only-of-type {\n",
              "        vertical-align: middle;\n",
              "    }\n",
              "\n",
              "    .dataframe tbody tr th {\n",
              "        vertical-align: top;\n",
              "    }\n",
              "\n",
              "    .dataframe thead th {\n",
              "        text-align: right;\n",
              "    }\n",
              "</style>\n",
              "<table border=\"1\" class=\"dataframe\">\n",
              "  <thead>\n",
              "    <tr style=\"text-align: right;\">\n",
              "      <th></th>\n",
              "      <th>Entity</th>\n",
              "      <th>UserID</th>\n",
              "      <th>Date</th>\n",
              "      <th>Rating</th>\n",
              "      <th>Comment</th>\n",
              "    </tr>\n",
              "  </thead>\n",
              "  <tbody>\n",
              "    <tr>\n",
              "      <th>0</th>\n",
              "      <td>puranpoli-santa-clara</td>\n",
              "      <td>Cara R.</td>\n",
              "      <td>5/9/2020</td>\n",
              "      <td>5 star rating</td>\n",
              "      <td>This place is a gem -- they opened at such an ...</td>\n",
              "    </tr>\n",
              "    <tr>\n",
              "      <th>1</th>\n",
              "      <td>puranpoli-santa-clara</td>\n",
              "      <td>M V.</td>\n",
              "      <td>5/8/2020</td>\n",
              "      <td>5 star rating</td>\n",
              "      <td>We ordered food from here (during the covid cr...</td>\n",
              "    </tr>\n",
              "    <tr>\n",
              "      <th>2</th>\n",
              "      <td>puranpoli-santa-clara</td>\n",
              "      <td>Akhilesh B.</td>\n",
              "      <td>3/20/2020</td>\n",
              "      <td>5 star rating</td>\n",
              "      <td>Awesome Maharashtrian food! Brings back memori...</td>\n",
              "    </tr>\n",
              "    <tr>\n",
              "      <th>3</th>\n",
              "      <td>puranpoli-santa-clara</td>\n",
              "      <td>Abdul Q.</td>\n",
              "      <td>5/14/2020</td>\n",
              "      <td>4 star rating</td>\n",
              "      <td>This is a nice place with nice people, claimin...</td>\n",
              "    </tr>\n",
              "    <tr>\n",
              "      <th>4</th>\n",
              "      <td>puranpoli-santa-clara</td>\n",
              "      <td>Mahima S.</td>\n",
              "      <td>5/8/2020</td>\n",
              "      <td>5 star rating</td>\n",
              "      <td></td>\n",
              "    </tr>\n",
              "  </tbody>\n",
              "</table>\n",
              "</div>"
            ],
            "text/plain": [
              "                  Entity  ...                                            Comment\n",
              "0  puranpoli-santa-clara  ...  This place is a gem -- they opened at such an ...\n",
              "1  puranpoli-santa-clara  ...  We ordered food from here (during the covid cr...\n",
              "2  puranpoli-santa-clara  ...  Awesome Maharashtrian food! Brings back memori...\n",
              "3  puranpoli-santa-clara  ...  This is a nice place with nice people, claimin...\n",
              "4  puranpoli-santa-clara  ...                                                   \n",
              "\n",
              "[5 rows x 5 columns]"
            ]
          },
          "metadata": {
            "tags": []
          },
          "execution_count": 41
        }
      ]
    },
    {
      "cell_type": "code",
      "metadata": {
        "id": "gD34CFjgf9Rr",
        "colab_type": "code",
        "outputId": "8a44c8d8-b1a5-4d6e-97b7-25d978f649b8",
        "colab": {
          "base_uri": "https://localhost:8080/",
          "height": 204
        }
      },
      "source": [
        "msg_pd.tail()"
      ],
      "execution_count": 0,
      "outputs": [
        {
          "output_type": "execute_result",
          "data": {
            "text/html": [
              "<div>\n",
              "<style scoped>\n",
              "    .dataframe tbody tr th:only-of-type {\n",
              "        vertical-align: middle;\n",
              "    }\n",
              "\n",
              "    .dataframe tbody tr th {\n",
              "        vertical-align: top;\n",
              "    }\n",
              "\n",
              "    .dataframe thead th {\n",
              "        text-align: right;\n",
              "    }\n",
              "</style>\n",
              "<table border=\"1\" class=\"dataframe\">\n",
              "  <thead>\n",
              "    <tr style=\"text-align: right;\">\n",
              "      <th></th>\n",
              "      <th>UserID</th>\n",
              "      <th>Date</th>\n",
              "      <th>Comment</th>\n",
              "    </tr>\n",
              "  </thead>\n",
              "  <tbody>\n",
              "    <tr>\n",
              "      <th>74</th>\n",
              "      <td>Swathi N.</td>\n",
              "      <td>4/16/2020</td>\n",
              "      <td>Amazing food, friendly staff, best place in sa...</td>\n",
              "    </tr>\n",
              "    <tr>\n",
              "      <th>75</th>\n",
              "      <td>Kooshiar V.</td>\n",
              "      <td>4/6/2020</td>\n",
              "      <td>Great new spot, found them through Instagram. ...</td>\n",
              "    </tr>\n",
              "    <tr>\n",
              "      <th>76</th>\n",
              "      <td>A G.</td>\n",
              "      <td>4/17/2020</td>\n",
              "      <td>Good food at affordable prices. I really liked...</td>\n",
              "    </tr>\n",
              "    <tr>\n",
              "      <th>77</th>\n",
              "      <td>Kasturi P.</td>\n",
              "      <td>4/11/2020</td>\n",
              "      <td>Amazing Maharashtrian food! Must try, hatsoff ...</td>\n",
              "    </tr>\n",
              "    <tr>\n",
              "      <th>78</th>\n",
              "      <td>Manish A.</td>\n",
              "      <td>3/21/2020</td>\n",
              "      <td>I was born and brought up in Maharashtra. This...</td>\n",
              "    </tr>\n",
              "  </tbody>\n",
              "</table>\n",
              "</div>"
            ],
            "text/plain": [
              "         UserID       Date                                            Comment\n",
              "74    Swathi N.  4/16/2020  Amazing food, friendly staff, best place in sa...\n",
              "75  Kooshiar V.   4/6/2020  Great new spot, found them through Instagram. ...\n",
              "76         A G.  4/17/2020  Good food at affordable prices. I really liked...\n",
              "77   Kasturi P.  4/11/2020  Amazing Maharashtrian food! Must try, hatsoff ...\n",
              "78    Manish A.  3/21/2020  I was born and brought up in Maharashtra. This..."
            ]
          },
          "metadata": {
            "tags": []
          },
          "execution_count": 25
        }
      ]
    },
    {
      "cell_type": "markdown",
      "metadata": {
        "id": "6v-wqqqyybvf",
        "colab_type": "text"
      },
      "source": [
        "# Write to Google Sheets"
      ]
    },
    {
      "cell_type": "code",
      "metadata": {
        "id": "WvwFH_IkyY1Z",
        "colab_type": "code",
        "colab": {}
      },
      "source": [
        "from google.colab import auth\n",
        "auth.authenticate_user()"
      ],
      "execution_count": 0,
      "outputs": []
    },
    {
      "cell_type": "code",
      "metadata": {
        "id": "vOPZA1Z-nhsV",
        "colab_type": "code",
        "colab": {}
      },
      "source": [
        "# gspread will pull new version of auth which is not compatible with colab V1.0.0\n",
        "!pip install --upgrade -q gspread"
      ],
      "execution_count": 0,
      "outputs": []
    },
    {
      "cell_type": "code",
      "metadata": {
        "id": "zJXzMCoWyY15",
        "colab_type": "code",
        "colab": {}
      },
      "source": [
        "import gspread\n",
        "from oauth2client.client import GoogleCredentials\n",
        "\n",
        "gc = gspread.authorize(GoogleCredentials.get_application_default())"
      ],
      "execution_count": 0,
      "outputs": []
    },
    {
      "cell_type": "code",
      "metadata": {
        "id": "_pYZ63CN27Ig",
        "colab_type": "code",
        "colab": {}
      },
      "source": [
        "import gspread_dataframe as gd\n",
        "\n",
        "# rememmber to create a google spreadsheet with sheet name reviews.\n",
        "ws = gc.open('Yelp Reviews').worksheet(\"Reviews\")\n",
        "existing = gd.get_as_dataframe(ws)\n",
        "updated = existing.append(msg_pd)\n",
        "gd.set_with_dataframe(ws, updated)\n"
      ],
      "execution_count": 0,
      "outputs": []
    }
  ]
}